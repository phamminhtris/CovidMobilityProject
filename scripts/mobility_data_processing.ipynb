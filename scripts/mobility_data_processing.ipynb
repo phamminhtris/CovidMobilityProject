{
 "metadata": {
  "language_info": {
   "codemirror_mode": {
    "name": "ipython",
    "version": 3
   },
   "file_extension": ".py",
   "mimetype": "text/x-python",
   "name": "python",
   "nbconvert_exporter": "python",
   "pygments_lexer": "ipython3",
   "version": "3.9.0-final"
  },
  "orig_nbformat": 2,
  "kernelspec": {
   "name": "python3",
   "display_name": "Python 3"
  }
 },
 "nbformat": 4,
 "nbformat_minor": 2,
 "cells": [
  {
   "cell_type": "code",
   "execution_count": 1,
   "metadata": {},
   "outputs": [
    {
     "output_type": "execute_result",
     "data": {
      "text/plain": [
       "        date   flips  retail  grocery     parks   transit  workplaces  \\\n",
       "0  5/18/2020  1001.0     0.0     12.0 -100000.0 -100000.0       -25.0   \n",
       "1  5/25/2020  1001.0    -4.0     10.0 -100000.0 -100000.0       -28.0   \n",
       "2   6/1/2020  1001.0     3.0     13.0 -100000.0 -100000.0       -21.0   \n",
       "3   6/8/2020  1001.0    -2.0     10.0 -100000.0 -100000.0       -20.0   \n",
       "4  6/15/2020  1001.0    -1.0     15.0 -100000.0 -100000.0       -20.0   \n",
       "\n",
       "   residential  \n",
       "0         10.0  \n",
       "1         10.0  \n",
       "2          8.0  \n",
       "3          8.0  \n",
       "4          7.0  "
      ],
      "text/html": "<div>\n<style scoped>\n    .dataframe tbody tr th:only-of-type {\n        vertical-align: middle;\n    }\n\n    .dataframe tbody tr th {\n        vertical-align: top;\n    }\n\n    .dataframe thead th {\n        text-align: right;\n    }\n</style>\n<table border=\"1\" class=\"dataframe\">\n  <thead>\n    <tr style=\"text-align: right;\">\n      <th></th>\n      <th>date</th>\n      <th>flips</th>\n      <th>retail</th>\n      <th>grocery</th>\n      <th>parks</th>\n      <th>transit</th>\n      <th>workplaces</th>\n      <th>residential</th>\n    </tr>\n  </thead>\n  <tbody>\n    <tr>\n      <th>0</th>\n      <td>5/18/2020</td>\n      <td>1001.0</td>\n      <td>0.0</td>\n      <td>12.0</td>\n      <td>-100000.0</td>\n      <td>-100000.0</td>\n      <td>-25.0</td>\n      <td>10.0</td>\n    </tr>\n    <tr>\n      <th>1</th>\n      <td>5/25/2020</td>\n      <td>1001.0</td>\n      <td>-4.0</td>\n      <td>10.0</td>\n      <td>-100000.0</td>\n      <td>-100000.0</td>\n      <td>-28.0</td>\n      <td>10.0</td>\n    </tr>\n    <tr>\n      <th>2</th>\n      <td>6/1/2020</td>\n      <td>1001.0</td>\n      <td>3.0</td>\n      <td>13.0</td>\n      <td>-100000.0</td>\n      <td>-100000.0</td>\n      <td>-21.0</td>\n      <td>8.0</td>\n    </tr>\n    <tr>\n      <th>3</th>\n      <td>6/8/2020</td>\n      <td>1001.0</td>\n      <td>-2.0</td>\n      <td>10.0</td>\n      <td>-100000.0</td>\n      <td>-100000.0</td>\n      <td>-20.0</td>\n      <td>8.0</td>\n    </tr>\n    <tr>\n      <th>4</th>\n      <td>6/15/2020</td>\n      <td>1001.0</td>\n      <td>-1.0</td>\n      <td>15.0</td>\n      <td>-100000.0</td>\n      <td>-100000.0</td>\n      <td>-20.0</td>\n      <td>7.0</td>\n    </tr>\n  </tbody>\n</table>\n</div>"
     },
     "metadata": {},
     "execution_count": 1
    }
   ],
   "source": [
    "import pandas as pd\n",
    "import os\n",
    "\n",
    "df = pd.read_csv(os.path.join('raw', 'CovidMobility.csv'))\n",
    "df = df.fillna(-100000)\n",
    "df.head()"
   ]
  },
  {
   "cell_type": "code",
   "execution_count": 2,
   "metadata": {},
   "outputs": [],
   "source": [
    "dates = df['date'].unique()\n",
    "dates.sort()"
   ]
  },
  {
   "cell_type": "code",
   "execution_count": 3,
   "metadata": {},
   "outputs": [],
   "source": [
    "flips = df['flips'].unique().astype(int)\n",
    "flips.sort()\n",
    "flips = flips[flips > 0]"
   ]
  },
  {
   "cell_type": "code",
   "execution_count": 31,
   "metadata": {},
   "outputs": [],
   "source": [
    "def build_fips_data(df, date):\n",
    "    date_data = df[df['date'] == date]\n",
    "    fips = date_data['flips'].unique()\n",
    "    res = {}\n",
    "    for fip in fips:\n",
    "        mobility = date_data[date_data['flips'] == fip].iloc[0]\n",
    "        # retail,grocery,parks,transit,workplaces,residential\n",
    "        mobility_data = [mobility['retail'], mobility['grocery'], mobility['parks'], mobility['transit'], mobility['workplaces'], mobility['residential']]\n",
    "        res[fip] = mobility_data\n",
    "\n",
    "    return res"
   ]
  },
  {
   "cell_type": "code",
   "execution_count": 34,
   "metadata": {
    "tags": []
   },
   "outputs": [
    {
     "output_type": "stream",
     "name": "stdout",
     "text": [
      "[0.0, 12.0, -100000.0, -100000.0, -25.0, 10.0]\n[-4.0, 10.0, -100000.0, -100000.0, -28.0, 10.0]\n[3.0, 13.0, -100000.0, -100000.0, -21.0, 8.0]\n[-1.0, 15.0, -100000.0, -100000.0, -20.0, 7.0]\n[-4.0, 8.0, -100000.0, -100000.0, -23.0, 9.0]\n[-3.0, 11.0, -100000.0, -100000.0, -32.0, 9.0]\n[-2.0, 10.0, -100000.0, -100000.0, -20.0, 8.0]\n[-1.0, 6.0, -100000.0, -100000.0, -24.0, 7.0]\n[-4.0, 4.0, -100000.0, -100000.0, -23.0, 8.0]\n[-1.0, 5.0, -100000.0, -100000.0, -23.0, 7.0]\n[0.0, 6.0, -100000.0, -100000.0, -24.0, 8.0]\n[0.0, 5.0, -100000.0, -100000.0, -24.0, 6.0]\n"
     ]
    }
   ],
   "source": [
    "import json\n",
    "\n",
    "data = {}\n",
    "for date in dates:\n",
    "    data[date] = build_fips_data(df, date)\n",
    "\n",
    "\n",
    "with open('mobility_data.json', 'w') as f:\n",
    "    serialized_data = json.dump(data, f)"
   ]
  },
  {
   "cell_type": "code",
   "execution_count": null,
   "metadata": {},
   "outputs": [],
   "source": []
  }
 ]
}