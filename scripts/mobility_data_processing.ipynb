{
 "metadata": {
  "language_info": {
   "codemirror_mode": {
    "name": "ipython",
    "version": 3
   },
   "file_extension": ".py",
   "mimetype": "text/x-python",
   "name": "python",
   "nbconvert_exporter": "python",
   "pygments_lexer": "ipython3",
   "version": "3.9.0-final"
  },
  "orig_nbformat": 2,
  "kernelspec": {
   "name": "python3",
   "display_name": "Python 3"
  }
 },
 "nbformat": 4,
 "nbformat_minor": 2,
 "cells": [
  {
   "cell_type": "code",
   "execution_count": 8,
   "metadata": {},
   "outputs": [
    {
     "output_type": "execute_result",
     "data": {
      "text/plain": [
       "        date flips retail grocery    parks  transit workplaces residential\n",
       "0  5/18/2020  1001      0      12  -100000  -100000        -25          10\n",
       "1  5/25/2020  1001     -4      10  -100000  -100000        -28          10\n",
       "2   6/1/2020  1001      3      13  -100000  -100000        -21           8\n",
       "3   6/8/2020  1001     -2      10  -100000  -100000        -20           8\n",
       "4  6/15/2020  1001     -1      15  -100000  -100000        -20           7"
      ],
      "text/html": "<div>\n<style scoped>\n    .dataframe tbody tr th:only-of-type {\n        vertical-align: middle;\n    }\n\n    .dataframe tbody tr th {\n        vertical-align: top;\n    }\n\n    .dataframe thead th {\n        text-align: right;\n    }\n</style>\n<table border=\"1\" class=\"dataframe\">\n  <thead>\n    <tr style=\"text-align: right;\">\n      <th></th>\n      <th>date</th>\n      <th>flips</th>\n      <th>retail</th>\n      <th>grocery</th>\n      <th>parks</th>\n      <th>transit</th>\n      <th>workplaces</th>\n      <th>residential</th>\n    </tr>\n  </thead>\n  <tbody>\n    <tr>\n      <th>0</th>\n      <td>5/18/2020</td>\n      <td>1001</td>\n      <td>0</td>\n      <td>12</td>\n      <td>-100000</td>\n      <td>-100000</td>\n      <td>-25</td>\n      <td>10</td>\n    </tr>\n    <tr>\n      <th>1</th>\n      <td>5/25/2020</td>\n      <td>1001</td>\n      <td>-4</td>\n      <td>10</td>\n      <td>-100000</td>\n      <td>-100000</td>\n      <td>-28</td>\n      <td>10</td>\n    </tr>\n    <tr>\n      <th>2</th>\n      <td>6/1/2020</td>\n      <td>1001</td>\n      <td>3</td>\n      <td>13</td>\n      <td>-100000</td>\n      <td>-100000</td>\n      <td>-21</td>\n      <td>8</td>\n    </tr>\n    <tr>\n      <th>3</th>\n      <td>6/8/2020</td>\n      <td>1001</td>\n      <td>-2</td>\n      <td>10</td>\n      <td>-100000</td>\n      <td>-100000</td>\n      <td>-20</td>\n      <td>8</td>\n    </tr>\n    <tr>\n      <th>4</th>\n      <td>6/15/2020</td>\n      <td>1001</td>\n      <td>-1</td>\n      <td>15</td>\n      <td>-100000</td>\n      <td>-100000</td>\n      <td>-20</td>\n      <td>7</td>\n    </tr>\n  </tbody>\n</table>\n</div>"
     },
     "metadata": {},
     "execution_count": 8
    }
   ],
   "source": [
    "import pandas as pd\n",
    "import os\n",
    "\n",
    "df = pd.read_csv(os.path.join('raw', 'CovidMobility.csv'), dtype=str)\n",
    "df = df.fillna(\"-100000\")\n",
    "df.head()"
   ]
  },
  {
   "cell_type": "code",
   "execution_count": 9,
   "metadata": {},
   "outputs": [],
   "source": [
    "dates = df['date'].unique()\n",
    "dates.sort()"
   ]
  },
  {
   "cell_type": "code",
   "execution_count": 10,
   "metadata": {},
   "outputs": [],
   "source": [
    "flips = df['flips'].unique()"
   ]
  },
  {
   "cell_type": "code",
   "execution_count": 11,
   "metadata": {},
   "outputs": [],
   "source": [
    "def build_date_data(df, date):\n",
    "    date_data = df[df['date'] == date]\n",
    "    fips = date_data['flips'].unique()\n",
    "    res = {}\n",
    "    for fip in fips:\n",
    "        mobility = date_data[date_data['flips'] == fip].iloc[0]\n",
    "        # retail,grocery,parks,transit,workplaces,residential\n",
    "        mobility_data = [mobility['retail'], mobility['grocery'], mobility['parks'], mobility['transit'], mobility['workplaces'], mobility['residential']]\n",
    "        res[fip] = mobility_data\n",
    "\n",
    "    return res"
   ]
  },
  {
   "cell_type": "code",
   "execution_count": 12,
   "metadata": {},
   "outputs": [],
   "source": [
    "def build_fips_data(df, fip_code):\n",
    "    fips_data = df[df['flips'] == fip_code]\n",
    "    dates = fips_data['date'].unique()\n",
    "    dates.sort()\n",
    "\n",
    "    res = {}\n",
    "    for date in dates:\n",
    "        mobility = fips_data[fips_data['date'] == date].iloc[0]\n",
    "        # retail,grocery,parks,transit,workplaces,residential\n",
    "        mobility_data = [mobility['retail'], mobility['grocery'], mobility['parks'], mobility['transit'], mobility['workplaces'], mobility['residential']]\n",
    "        res[date] = mobility_data\n",
    "        break\n",
    "    return res\n"
   ]
  },
  {
   "cell_type": "code",
   "execution_count": 13,
   "metadata": {
    "tags": []
   },
   "outputs": [],
   "source": [
    "import json\n",
    "\n",
    "data = {}\n",
    "for date in dates:\n",
    "    data[date] = build_date_data(df, date)\n",
    "\n",
    "\n",
    "with open('mobility_date_data.json', 'w') as f:\n",
    "    serialized_data = json.dump(data, f)"
   ]
  },
  {
   "cell_type": "code",
   "execution_count": 14,
   "metadata": {
    "tags": []
   },
   "outputs": [],
   "source": [
    "data = {}\n",
    "for fip in flips:\n",
    "    data[str(fip)] = build_fips_data(df, fip)\n",
    "\n",
    "\n",
    "with open('mobility_fips_data.json', 'w') as f:\n",
    "    serialized_data = json.dump(data, f)\n",
    "    "
   ]
  },
  {
   "cell_type": "code",
   "execution_count": null,
   "metadata": {},
   "outputs": [],
   "source": []
  }
 ]
}